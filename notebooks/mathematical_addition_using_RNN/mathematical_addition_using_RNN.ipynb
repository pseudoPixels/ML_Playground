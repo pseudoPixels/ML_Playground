{
 "cells": [
  {
   "cell_type": "markdown",
   "metadata": {},
   "source": [
    "## 1.0 Mathematical Addition using RNN\n",
    "This is a sequence to sequence learning problem where the RNN model learns to add two numbers (as string). This is a simple example where, the input and output length are always same, unlike other language models or sequence problems. To always make sure that, the input is of a fixed length `MAXLEN`, the required amount of `(space)` characters are padded. This notebook experiment is based on [keras official tutorial](https://github.com/keras-team/keras/blob/master/examples/addition_rnn.py). "
   ]
  },
  {
   "cell_type": "markdown",
   "metadata": {},
   "source": [
    "## 2.0 Generate Dataset"
   ]
  },
  {
   "cell_type": "code",
   "execution_count": 1,
   "metadata": {},
   "outputs": [
    {
     "name": "stderr",
     "output_type": "stream",
     "text": [
      "Using TensorFlow backend.\n"
     ]
    }
   ],
   "source": [
    "from __future__ import print_function\n",
    "from keras.models import Sequential\n",
    "from keras import layers\n",
    "import numpy as np\n",
    "from six.moves import range"
   ]
  },
  {
   "cell_type": "code",
   "execution_count": 2,
   "metadata": {},
   "outputs": [],
   "source": [
    "DIGITS = 3\n",
    "TRAINING_SIZE = 50000\n",
    "MAXLEN = 2*DIGITS + 1"
   ]
  },
  {
   "cell_type": "code",
   "execution_count": 3,
   "metadata": {},
   "outputs": [],
   "source": [
    "questions = []\n",
    "answers = []"
   ]
  },
  {
   "cell_type": "code",
   "execution_count": 6,
   "metadata": {},
   "outputs": [],
   "source": [
    "seen = set()\n",
    "while len(questions) < TRAINING_SIZE:\n",
    "    f = lambda: int(''.join(np.random.choice(list('0123456789'))for i in range(np.random.randint(1, DIGITS +1))))\n",
    "    \n",
    "    a , b= f(), f()\n",
    "    \n",
    "    key = tuple(sorted((a, b)))\n",
    "    if key in seen:\n",
    "        continue\n",
    " \n",
    "    seen.add(key)\n",
    "    \n",
    "    q = '{}+{}'.format(a,b)\n",
    "    question = q + ' ' * (MAXLEN - len(q))\n",
    "    \n",
    "    a = str(a + b)\n",
    "    answer = a + ' ' * (DIGITS +1 - len(a))\n",
    "    \n",
    "    questions.append(question)\n",
    "    answers.append(answer)\n",
    "    "
   ]
  },
  {
   "cell_type": "code",
   "execution_count": 11,
   "metadata": {},
   "outputs": [
    {
     "data": {
      "text/plain": [
       "['1+7    ', '361+3  ', '57+564 ', '87+6   ', '140+538']"
      ]
     },
     "execution_count": 11,
     "metadata": {},
     "output_type": "execute_result"
    }
   ],
   "source": [
    "questions[20:25]"
   ]
  },
  {
   "cell_type": "code",
   "execution_count": 12,
   "metadata": {},
   "outputs": [
    {
     "data": {
      "text/plain": [
       "['8   ', '364 ', '621 ', '93  ', '678 ']"
      ]
     },
     "execution_count": 12,
     "metadata": {},
     "output_type": "execute_result"
    }
   ],
   "source": [
    "answers[20:25]"
   ]
  },
  {
   "cell_type": "code",
   "execution_count": 13,
   "metadata": {},
   "outputs": [
    {
     "name": "stdout",
     "output_type": "stream",
     "text": [
      "Total number of questions/dataset:  50000\n"
     ]
    }
   ],
   "source": [
    "print(\"Total number of questions/dataset: \", len(questions))"
   ]
  },
  {
   "cell_type": "markdown",
   "metadata": {},
   "source": [
    "## 3.0 Vectorization"
   ]
  },
  {
   "cell_type": "code",
   "execution_count": 15,
   "metadata": {},
   "outputs": [],
   "source": [
    "chars = '0123456789+ '"
   ]
  },
  {
   "cell_type": "code",
   "execution_count": 16,
   "metadata": {},
   "outputs": [],
   "source": [
    "x = np.zeros((len(questions), MAXLEN, len(chars)), dtype=np.bool)\n",
    "y = np.zeros((len(questions), DIGITS + 1, len(chars)), dtype=np.bool)"
   ]
  },
  {
   "cell_type": "code",
   "execution_count": 19,
   "metadata": {},
   "outputs": [
    {
     "data": {
      "text/plain": [
       "array([[False, False, False, False, False, False, False, False, False,\n",
       "        False, False, False],\n",
       "       [False, False, False, False, False, False, False, False, False,\n",
       "        False, False, False],\n",
       "       [False, False, False, False, False, False, False, False, False,\n",
       "        False, False, False],\n",
       "       [False, False, False, False, False, False, False, False, False,\n",
       "        False, False, False],\n",
       "       [False, False, False, False, False, False, False, False, False,\n",
       "        False, False, False],\n",
       "       [False, False, False, False, False, False, False, False, False,\n",
       "        False, False, False],\n",
       "       [False, False, False, False, False, False, False, False, False,\n",
       "        False, False, False]])"
      ]
     },
     "execution_count": 19,
     "metadata": {},
     "output_type": "execute_result"
    }
   ],
   "source": [
    "x[0]"
   ]
  },
  {
   "cell_type": "code",
   "execution_count": 20,
   "metadata": {},
   "outputs": [],
   "source": [
    "char_indices = dict((c, i) for i, c in enumerate(chars))\n",
    "indices_char = dict((i, c) for i, c in enumerate(chars))"
   ]
  },
  {
   "cell_type": "code",
   "execution_count": 21,
   "metadata": {},
   "outputs": [
    {
     "data": {
      "text/plain": [
       "{'0': 0,\n",
       " '1': 1,\n",
       " '2': 2,\n",
       " '3': 3,\n",
       " '4': 4,\n",
       " '5': 5,\n",
       " '6': 6,\n",
       " '7': 7,\n",
       " '8': 8,\n",
       " '9': 9,\n",
       " '+': 10,\n",
       " ' ': 11}"
      ]
     },
     "execution_count": 21,
     "metadata": {},
     "output_type": "execute_result"
    }
   ],
   "source": [
    "char_indices"
   ]
  },
  {
   "cell_type": "code",
   "execution_count": 24,
   "metadata": {},
   "outputs": [],
   "source": [
    "def encode(C, num_rows):\n",
    "    \"\"\"One-hot encode given string C.\n",
    "    # Arguments\n",
    "        C: string, to be encoded.\n",
    "        num_rows: Number of rows in the returned one-hot encoding. This is\n",
    "            used to keep the # of rows for each data the same.\n",
    "    \"\"\"\n",
    "    x = np.zeros((num_rows, len(chars)))\n",
    "    for i, c in enumerate(C):\n",
    "        x[i, char_indices[c]] = 1\n",
    "    return x"
   ]
  },
  {
   "cell_type": "code",
   "execution_count": 25,
   "metadata": {},
   "outputs": [
    {
     "name": "stdout",
     "output_type": "stream",
     "text": [
      "[[0. 0. 0. 0. 0. 0. 0. 0. 1. 0. 0. 0.]\n",
      " [0. 0. 0. 1. 0. 0. 0. 0. 0. 0. 0. 0.]\n",
      " [0. 1. 0. 0. 0. 0. 0. 0. 0. 0. 0. 0.]\n",
      " [0. 0. 0. 0. 0. 0. 0. 0. 0. 0. 1. 0.]\n",
      " [1. 0. 0. 0. 0. 0. 0. 0. 0. 0. 0. 0.]\n",
      " [0. 0. 0. 0. 0. 0. 0. 0. 0. 0. 0. 1.]\n",
      " [0. 0. 0. 0. 0. 0. 0. 0. 0. 0. 0. 1.]]\n"
     ]
    }
   ],
   "source": [
    "print(encode(questions[0], MAXLEN))"
   ]
  },
  {
   "cell_type": "code",
   "execution_count": 26,
   "metadata": {},
   "outputs": [],
   "source": [
    "for i, question in enumerate(questions):\n",
    "    x[i] = encode(question, MAXLEN)"
   ]
  },
  {
   "cell_type": "code",
   "execution_count": 27,
   "metadata": {},
   "outputs": [],
   "source": [
    "for i, answer in enumerate(answers):\n",
    "    y[i] = encode(answer, DIGITS + 1)"
   ]
  },
  {
   "cell_type": "markdown",
   "metadata": {},
   "source": [
    "## 4.0 Shuffle Dataset"
   ]
  },
  {
   "cell_type": "code",
   "execution_count": 29,
   "metadata": {},
   "outputs": [],
   "source": [
    "indices = np.arange(len(questions))"
   ]
  },
  {
   "cell_type": "code",
   "execution_count": 31,
   "metadata": {},
   "outputs": [],
   "source": [
    "np.random.shuffle(indices)"
   ]
  },
  {
   "cell_type": "code",
   "execution_count": 33,
   "metadata": {},
   "outputs": [],
   "source": [
    "x = x[indices]\n",
    "y = y[indices]"
   ]
  },
  {
   "cell_type": "markdown",
   "metadata": {},
   "source": [
    "## 5.0 Train Test Split"
   ]
  },
  {
   "cell_type": "code",
   "execution_count": 40,
   "metadata": {},
   "outputs": [],
   "source": [
    "split_at = len(x) - len(x) // 10"
   ]
  },
  {
   "cell_type": "code",
   "execution_count": 41,
   "metadata": {},
   "outputs": [
    {
     "data": {
      "text/plain": [
       "45000"
      ]
     },
     "execution_count": 41,
     "metadata": {},
     "output_type": "execute_result"
    }
   ],
   "source": [
    "split_at"
   ]
  },
  {
   "cell_type": "code",
   "execution_count": 42,
   "metadata": {},
   "outputs": [],
   "source": [
    "(x_train, x_test) = x[:split_at], x[split_at:]\n",
    "(y_train, y_test) = y[:split_at], y[split_at:]"
   ]
  },
  {
   "cell_type": "code",
   "execution_count": 43,
   "metadata": {},
   "outputs": [
    {
     "data": {
      "text/plain": [
       "(45000, 7, 12)"
      ]
     },
     "execution_count": 43,
     "metadata": {},
     "output_type": "execute_result"
    }
   ],
   "source": [
    "x_train.shape"
   ]
  },
  {
   "cell_type": "code",
   "execution_count": 44,
   "metadata": {},
   "outputs": [
    {
     "data": {
      "text/plain": [
       "(45000, 4, 12)"
      ]
     },
     "execution_count": 44,
     "metadata": {},
     "output_type": "execute_result"
    }
   ],
   "source": [
    "y_train.shape"
   ]
  },
  {
   "cell_type": "markdown",
   "metadata": {},
   "source": [
    "## 5.0 Build Model"
   ]
  },
  {
   "cell_type": "code",
   "execution_count": 46,
   "metadata": {},
   "outputs": [],
   "source": [
    "HIDDEN_SIZE = 128"
   ]
  },
  {
   "cell_type": "code",
   "execution_count": 47,
   "metadata": {},
   "outputs": [],
   "source": [
    "model = Sequential()"
   ]
  },
  {
   "cell_type": "code",
   "execution_count": 49,
   "metadata": {},
   "outputs": [],
   "source": [
    "model.add(layers.LSTM(HIDDEN_SIZE, input_shape=(MAXLEN, len(chars))))"
   ]
  },
  {
   "cell_type": "code",
   "execution_count": 50,
   "metadata": {},
   "outputs": [],
   "source": [
    "model.add(layers.RepeatVector(DIGITS + 1))"
   ]
  },
  {
   "cell_type": "code",
   "execution_count": 51,
   "metadata": {},
   "outputs": [],
   "source": [
    "model.add(layers.LSTM(HIDDEN_SIZE, return_sequences=True))"
   ]
  },
  {
   "cell_type": "code",
   "execution_count": 52,
   "metadata": {},
   "outputs": [],
   "source": [
    "model.add(layers.TimeDistributed(layers.Dense(len(chars), activation='softmax')))"
   ]
  },
  {
   "cell_type": "code",
   "execution_count": 53,
   "metadata": {},
   "outputs": [],
   "source": [
    "model.compile(loss='categorical_crossentropy', optimizer='adam', metrics=['accuracy'])"
   ]
  },
  {
   "cell_type": "code",
   "execution_count": 54,
   "metadata": {},
   "outputs": [
    {
     "name": "stdout",
     "output_type": "stream",
     "text": [
      "_________________________________________________________________\n",
      "Layer (type)                 Output Shape              Param #   \n",
      "=================================================================\n",
      "lstm_1 (LSTM)                (None, 128)               72192     \n",
      "_________________________________________________________________\n",
      "repeat_vector_1 (RepeatVecto (None, 4, 128)            0         \n",
      "_________________________________________________________________\n",
      "lstm_2 (LSTM)                (None, 4, 128)            131584    \n",
      "_________________________________________________________________\n",
      "time_distributed_1 (TimeDist (None, 4, 12)             1548      \n",
      "=================================================================\n",
      "Total params: 205,324\n",
      "Trainable params: 205,324\n",
      "Non-trainable params: 0\n",
      "_________________________________________________________________\n"
     ]
    }
   ],
   "source": [
    "model.summary()"
   ]
  },
  {
   "cell_type": "code",
   "execution_count": 55,
   "metadata": {},
   "outputs": [],
   "source": [
    "BATCH_SIZE = 128"
   ]
  },
  {
   "cell_type": "code",
   "execution_count": 57,
   "metadata": {},
   "outputs": [],
   "source": [
    "def decode(x, calc_argmax=True):\n",
    "    \"\"\"Decode the given vector or 2D array to their character output.\n",
    "    # Arguments\n",
    "        x: A vector or a 2D array of probabilities or one-hot representations;\n",
    "            or a vector of character indices (used with `calc_argmax=False`).\n",
    "        calc_argmax: Whether to find the character index with maximum\n",
    "            probability, defaults to `True`.\n",
    "    \"\"\"\n",
    "    if calc_argmax:\n",
    "        x = x.argmax(axis=-1)\n",
    "    return ''.join(indices_char[x] for x in x)"
   ]
  },
  {
   "cell_type": "code",
   "execution_count": 75,
   "metadata": {},
   "outputs": [
    {
     "name": "stdout",
     "output_type": "stream",
     "text": [
      "\n",
      "--------------------------------------------------\n",
      "Iteration:  1\n",
      "Train on 45000 samples, validate on 5000 samples\n",
      "Epoch 1/1\n",
      "45000/45000 [==============================] - 14s 315us/step - loss: 0.0505 - acc: 0.9843 - val_loss: 0.0416 - val_acc: 0.9863\n",
      "Correct:  683+197 = 880 \n",
      "Correct:  955+412 = 1367\n",
      "Correct:  761+50  = 811 \n",
      "Correct:  997+68  = 1065\n",
      "Correct:  829+8   = 837 \n",
      "Correct:  477+386 = 863 \n",
      "Correct:  903+444 = 1347\n",
      "Correct:  23+281  = 304 \n",
      "Correct:  646+50  = 696 \n",
      "Correct:  969+68  = 1037\n",
      "\n",
      "--------------------------------------------------\n",
      "Iteration:  2\n",
      "Train on 45000 samples, validate on 5000 samples\n",
      "Epoch 1/1\n",
      "45000/45000 [==============================] - 14s 320us/step - loss: 0.0156 - acc: 0.9973 - val_loss: 0.0264 - val_acc: 0.9922\n",
      "Correct:  19+15   = 34  \n",
      "Correct:  614+6   = 620 \n",
      "Correct:  56+10   = 66  \n",
      "Correct:  16+419  = 435 \n",
      "Correct:  18+626  = 644 \n",
      "Correct:  489+47  = 536 \n",
      "Correct:  166+63  = 229 \n",
      "Correct:  654+104 = 758 \n",
      "Correct:  906+43  = 949 \n",
      "Correct:  216+967 = 1183\n",
      "\n",
      "--------------------------------------------------\n",
      "Iteration:  3\n",
      "Train on 45000 samples, validate on 5000 samples\n",
      "Epoch 1/1\n",
      "45000/45000 [==============================] - 14s 321us/step - loss: 0.0129 - acc: 0.9980 - val_loss: 0.0559 - val_acc: 0.9803\n",
      "Correct:  430+4   = 434 \n",
      "Correct:  886+43  = 929 \n",
      "Correct:  649+867 = 1516\n",
      "Correct:  88+14   = 102 \n",
      "Wrong:  297+23  != 310 \n",
      "Correct:  188+29  = 217 \n",
      "Correct:  703+735 = 1438\n",
      "Correct:  79+49   = 128 \n",
      "Correct:  40+832  = 872 \n",
      "Correct:  70+158  = 228 \n",
      "\n",
      "--------------------------------------------------\n",
      "Iteration:  4\n",
      "Train on 45000 samples, validate on 5000 samples\n",
      "Epoch 1/1\n",
      "45000/45000 [==============================] - 16s 363us/step - loss: 0.0322 - acc: 0.9907 - val_loss: 0.0408 - val_acc: 0.9859\n",
      "Correct:  466+828 = 1294\n",
      "Correct:  18+626  = 644 \n",
      "Correct:  169+0   = 169 \n",
      "Correct:  188+63  = 251 \n",
      "Correct:  60+285  = 345 \n",
      "Correct:  585+804 = 1389\n",
      "Correct:  623+360 = 983 \n",
      "Correct:  52+919  = 971 \n",
      "Correct:  9+108   = 117 \n",
      "Correct:  726+35  = 761 \n",
      "\n",
      "--------------------------------------------------\n",
      "Iteration:  5\n",
      "Train on 45000 samples, validate on 5000 samples\n",
      "Epoch 1/1\n",
      "45000/45000 [==============================] - 28s 617us/step - loss: 0.0228 - acc: 0.9942 - val_loss: 0.0356 - val_acc: 0.9874\n",
      "Correct:  962+12  = 974 \n",
      "Correct:  330+4   = 334 \n",
      "Correct:  42+643  = 685 \n",
      "Correct:  72+62   = 134 \n",
      "Correct:  13+50   = 63  \n",
      "Correct:  152+51  = 203 \n",
      "Correct:  780+64  = 844 \n",
      "Correct:  568+81  = 649 \n",
      "Correct:  237+871 = 1108\n",
      "Correct:  69+834  = 903 \n",
      "\n",
      "--------------------------------------------------\n",
      "Iteration:  6\n",
      "Train on 45000 samples, validate on 5000 samples\n",
      "Epoch 1/1\n",
      "45000/45000 [==============================] - 22s 483us/step - loss: 0.0137 - acc: 0.9972 - val_loss: 0.0371 - val_acc: 0.9883\n",
      "Correct:  83+501  = 584 \n",
      "Correct:  176+521 = 697 \n",
      "Correct:  572+285 = 857 \n",
      "Correct:  49+139  = 188 \n",
      "Correct:  288+691 = 979 \n",
      "Wrong:  402+67  != 479 \n",
      "Correct:  8+334   = 342 \n",
      "Correct:  88+2    = 90  \n",
      "Correct:  4+255   = 259 \n",
      "Correct:  525+30  = 555 \n",
      "\n",
      "--------------------------------------------------\n",
      "Iteration:  7\n",
      "Train on 45000 samples, validate on 5000 samples\n",
      "Epoch 1/1\n",
      "45000/45000 [==============================] - 12s 270us/step - loss: 0.0490 - acc: 0.9843 - val_loss: 0.0288 - val_acc: 0.9909\n",
      "Correct:  663+117 = 780 \n",
      "Correct:  962+126 = 1088\n",
      "Correct:  145+482 = 627 \n",
      "Correct:  48+8    = 56  \n",
      "Correct:  72+581  = 653 \n",
      "Correct:  27+627  = 654 \n",
      "Correct:  146+803 = 949 \n",
      "Correct:  563+890 = 1453\n",
      "Correct:  55+113  = 168 \n",
      "Correct:  3+683   = 686 \n",
      "\n",
      "--------------------------------------------------\n",
      "Iteration:  8\n",
      "Train on 45000 samples, validate on 5000 samples\n",
      "Epoch 1/1\n",
      "45000/45000 [==============================] - 12s 268us/step - loss: 0.0104 - acc: 0.9985 - val_loss: 0.0215 - val_acc: 0.9937\n",
      "Correct:  116+91  = 207 \n",
      "Correct:  87+293  = 380 \n",
      "Correct:  821+44  = 865 \n",
      "Correct:  559+98  = 657 \n",
      "Correct:  182+27  = 209 \n",
      "Correct:  141+140 = 281 \n",
      "Correct:  581+20  = 601 \n",
      "Wrong:  9+0     != 99  \n",
      "Correct:  42+120  = 162 \n",
      "Correct:  24+56   = 80  \n",
      "\n",
      "--------------------------------------------------\n",
      "Iteration:  9\n",
      "Train on 45000 samples, validate on 5000 samples\n",
      "Epoch 1/1\n",
      "45000/45000 [==============================] - 12s 266us/step - loss: 0.0081 - acc: 0.9990 - val_loss: 0.0199 - val_acc: 0.9937\n",
      "Correct:  6+545   = 551 \n",
      "Correct:  442+21  = 463 \n",
      "Correct:  226+96  = 322 \n",
      "Correct:  42+113  = 155 \n",
      "Correct:  6+123   = 129 \n",
      "Correct:  261+1   = 262 \n",
      "Correct:  6+76    = 82  \n",
      "Correct:  269+980 = 1249\n",
      "Correct:  448+0   = 448 \n",
      "Correct:  641+63  = 704 \n",
      "\n",
      "--------------------------------------------------\n",
      "Iteration:  10\n",
      "Train on 45000 samples, validate on 5000 samples\n",
      "Epoch 1/1\n",
      "45000/45000 [==============================] - 12s 265us/step - loss: 0.0118 - acc: 0.9974 - val_loss: 0.0564 - val_acc: 0.9809\n",
      "Correct:  600+614 = 1214\n",
      "Correct:  325+159 = 484 \n",
      "Correct:  377+7   = 384 \n",
      "Correct:  26+19   = 45  \n",
      "Correct:  720+85  = 805 \n",
      "Correct:  403+421 = 824 \n",
      "Correct:  154+95  = 249 \n",
      "Correct:  940+1   = 941 \n",
      "Correct:  83+983  = 1066\n",
      "Correct:  29+871  = 900 \n",
      "\n",
      "--------------------------------------------------\n",
      "Iteration:  11\n",
      "Train on 45000 samples, validate on 5000 samples\n",
      "Epoch 1/1\n",
      "45000/45000 [==============================] - 15s 339us/step - loss: 0.0348 - acc: 0.9889 - val_loss: 0.0337 - val_acc: 0.9887\n",
      "Correct:  0+597   = 597 \n",
      "Correct:  411+282 = 693 \n",
      "Correct:  539+25  = 564 \n",
      "Correct:  767+888 = 1655\n",
      "Correct:  738+20  = 758 \n",
      "Correct:  222+0   = 222 \n",
      "Correct:  82+635  = 717 \n",
      "Correct:  397+623 = 1020\n",
      "Wrong:  528+61  != 599 \n",
      "Correct:  297+532 = 829 \n",
      "\n",
      "--------------------------------------------------\n",
      "Iteration:  12\n",
      "Train on 45000 samples, validate on 5000 samples\n",
      "Epoch 1/1\n",
      "45000/45000 [==============================] - 15s 332us/step - loss: 0.0093 - acc: 0.9983 - val_loss: 0.0214 - val_acc: 0.9930\n",
      "Correct:  516+86  = 602 \n",
      "Correct:  336+501 = 837 \n",
      "Correct:  314+175 = 489 \n",
      "Correct:  42+693  = 735 \n",
      "Correct:  262+65  = 327 \n",
      "Correct:  5+453   = 458 \n",
      "Correct:  896+5   = 901 \n",
      "Correct:  611+30  = 641 \n",
      "Correct:  972+737 = 1709\n",
      "Correct:  990+20  = 1010\n",
      "\n",
      "--------------------------------------------------\n",
      "Iteration:  13\n",
      "Train on 45000 samples, validate on 5000 samples\n",
      "Epoch 1/1\n",
      "45000/45000 [==============================] - 12s 267us/step - loss: 0.0095 - acc: 0.9981 - val_loss: 0.0219 - val_acc: 0.9926\n",
      "Correct:  47+166  = 213 \n",
      "Correct:  62+224  = 286 \n",
      "Correct:  145+138 = 283 \n",
      "Correct:  62+137  = 199 \n",
      "Correct:  276+375 = 651 \n",
      "Correct:  25+713  = 738 \n",
      "Correct:  99+356  = 455 \n",
      "Correct:  99+646  = 745 \n",
      "Correct:  200+371 = 571 \n",
      "Wrong:  940+166 != 1105\n",
      "\n",
      "--------------------------------------------------\n",
      "Iteration:  14\n",
      "Train on 45000 samples, validate on 5000 samples\n",
      "Epoch 1/1\n",
      "45000/45000 [==============================] - 12s 265us/step - loss: 0.0421 - acc: 0.9866 - val_loss: 0.0636 - val_acc: 0.9789\n",
      "Correct:  3+683   = 686 \n",
      "Correct:  521+35  = 556 \n",
      "Correct:  623+40  = 663 \n",
      "Correct:  625+8   = 633 \n",
      "Correct:  924+735 = 1659\n",
      "Correct:  653+7   = 660 \n",
      "Correct:  46+77   = 123 \n",
      "Correct:  862+710 = 1572\n",
      "Correct:  0+396   = 396 \n",
      "Correct:  94+0    = 94  \n",
      "\n",
      "--------------------------------------------------\n",
      "Iteration:  15\n",
      "Train on 45000 samples, validate on 5000 samples\n",
      "Epoch 1/1\n",
      "45000/45000 [==============================] - 12s 266us/step - loss: 0.0159 - acc: 0.9958 - val_loss: 0.0191 - val_acc: 0.9938\n",
      "Correct:  713+181 = 894 \n",
      "Correct:  795+1   = 796 \n",
      "Correct:  13+740  = 753 \n",
      "Correct:  825+938 = 1763\n",
      "Correct:  937+85  = 1022\n",
      "Correct:  96+750  = 846 \n",
      "Correct:  55+369  = 424 \n",
      "Correct:  348+85  = 433 \n",
      "Wrong:  407+151 != 568 \n",
      "Correct:  825+49  = 874 \n",
      "\n",
      "--------------------------------------------------\n",
      "Iteration:  16\n",
      "Train on 45000 samples, validate on 5000 samples\n",
      "Epoch 1/1\n",
      "45000/45000 [==============================] - 12s 265us/step - loss: 0.0056 - acc: 0.9995 - val_loss: 0.0140 - val_acc: 0.9958\n",
      "Correct:  288+124 = 412 \n",
      "Correct:  48+275  = 323 \n",
      "Correct:  32+45   = 77  \n",
      "Correct:  83+501  = 584 \n",
      "Correct:  79+0    = 79  \n",
      "Correct:  169+49  = 218 \n",
      "Correct:  501+3   = 504 \n",
      "Correct:  16+873  = 889 \n",
      "Correct:  40+94   = 134 \n",
      "Correct:  237+9   = 246 \n",
      "\n",
      "--------------------------------------------------\n",
      "Iteration:  17\n",
      "Train on 45000 samples, validate on 5000 samples\n",
      "Epoch 1/1\n"
     ]
    },
    {
     "name": "stdout",
     "output_type": "stream",
     "text": [
      "45000/45000 [==============================] - 14s 319us/step - loss: 0.0043 - acc: 0.9996 - val_loss: 0.0199 - val_acc: 0.9932\n",
      "Correct:  38+519  = 557 \n",
      "Correct:  65+238  = 303 \n",
      "Correct:  951+82  = 1033\n",
      "Correct:  831+51  = 882 \n",
      "Correct:  881+961 = 1842\n",
      "Correct:  695+65  = 760 \n",
      "Correct:  87+623  = 710 \n",
      "Correct:  419+81  = 500 \n",
      "Correct:  280+437 = 717 \n",
      "Correct:  420+50  = 470 \n",
      "\n",
      "--------------------------------------------------\n",
      "Iteration:  18\n",
      "Train on 45000 samples, validate on 5000 samples\n",
      "Epoch 1/1\n",
      "45000/45000 [==============================] - 20s 455us/step - loss: 0.0315 - acc: 0.9898 - val_loss: 0.0357 - val_acc: 0.9880\n",
      "Correct:  441+92  = 533 \n",
      "Correct:  11+334  = 345 \n",
      "Correct:  701+93  = 794 \n",
      "Correct:  4+589   = 593 \n",
      "Correct:  80+621  = 701 \n",
      "Correct:  72+83   = 155 \n",
      "Correct:  365+277 = 642 \n",
      "Correct:  335+774 = 1109\n",
      "Correct:  964+793 = 1757\n",
      "Correct:  902+771 = 1673\n",
      "\n",
      "--------------------------------------------------\n",
      "Iteration:  19\n",
      "Train on 45000 samples, validate on 5000 samples\n",
      "Epoch 1/1\n",
      "45000/45000 [==============================] - 22s 490us/step - loss: 0.0188 - acc: 0.9946 - val_loss: 0.0150 - val_acc: 0.9956\n",
      "Correct:  0+266   = 266 \n",
      "Correct:  923+42  = 965 \n",
      "Correct:  72+288  = 360 \n",
      "Correct:  248+6   = 254 \n",
      "Correct:  925+2   = 927 \n",
      "Correct:  48+94   = 142 \n",
      "Correct:  950+76  = 1026\n",
      "Correct:  765+514 = 1279\n",
      "Correct:  641+497 = 1138\n",
      "Correct:  532+7   = 539 \n",
      "\n",
      "--------------------------------------------------\n",
      "Iteration:  20\n",
      "Train on 45000 samples, validate on 5000 samples\n",
      "Epoch 1/1\n",
      "45000/45000 [==============================] - 23s 509us/step - loss: 0.0039 - acc: 0.9998 - val_loss: 0.0125 - val_acc: 0.9964\n",
      "Correct:  235+557 = 792 \n",
      "Correct:  92+67   = 159 \n",
      "Correct:  180+449 = 629 \n",
      "Correct:  119+819 = 938 \n",
      "Correct:  17+49   = 66  \n",
      "Correct:  554+933 = 1487\n",
      "Correct:  976+27  = 1003\n",
      "Correct:  40+719  = 759 \n",
      "Correct:  4+533   = 537 \n",
      "Correct:  160+133 = 293 \n",
      "\n",
      "--------------------------------------------------\n",
      "Iteration:  21\n",
      "Train on 45000 samples, validate on 5000 samples\n",
      "Epoch 1/1\n",
      "45000/45000 [==============================] - 23s 507us/step - loss: 0.0033 - acc: 0.9998 - val_loss: 0.0125 - val_acc: 0.9957\n",
      "Correct:  50+905  = 955 \n",
      "Correct:  714+4   = 718 \n",
      "Wrong:  45+555  != 500 \n",
      "Correct:  262+503 = 765 \n",
      "Correct:  528+318 = 846 \n",
      "Correct:  724+122 = 846 \n",
      "Correct:  204+94  = 298 \n",
      "Correct:  85+477  = 562 \n",
      "Correct:  206+954 = 1160\n",
      "Correct:  340+3   = 343 \n",
      "\n",
      "--------------------------------------------------\n",
      "Iteration:  22\n",
      "Train on 45000 samples, validate on 5000 samples\n",
      "Epoch 1/1\n",
      "45000/45000 [==============================] - 17s 372us/step - loss: 0.0105 - acc: 0.9970 - val_loss: 0.1093 - val_acc: 0.9647\n",
      "Correct:  413+746 = 1159\n",
      "Correct:  0+872   = 872 \n",
      "Correct:  97+580  = 677 \n",
      "Correct:  609+528 = 1137\n",
      "Correct:  399+739 = 1138\n",
      "Correct:  26+5    = 31  \n",
      "Correct:  207+864 = 1071\n",
      "Correct:  293+33  = 326 \n",
      "Correct:  489+354 = 843 \n",
      "Correct:  509+18  = 527 \n",
      "\n",
      "--------------------------------------------------\n",
      "Iteration:  23\n",
      "Train on 45000 samples, validate on 5000 samples\n",
      "Epoch 1/1\n",
      "45000/45000 [==============================] - 16s 358us/step - loss: 0.0439 - acc: 0.9865 - val_loss: 0.0189 - val_acc: 0.9954\n",
      "Correct:  6+434   = 440 \n",
      "Correct:  69+834  = 903 \n",
      "Correct:  579+698 = 1277\n",
      "Correct:  354+4   = 358 \n",
      "Correct:  0+644   = 644 \n",
      "Correct:  859+1   = 860 \n",
      "Correct:  1+847   = 848 \n",
      "Correct:  43+827  = 870 \n",
      "Correct:  242+0   = 242 \n",
      "Correct:  80+82   = 162 \n",
      "\n",
      "--------------------------------------------------\n",
      "Iteration:  24\n",
      "Train on 45000 samples, validate on 5000 samples\n",
      "Epoch 1/1\n",
      "45000/45000 [==============================] - 16s 356us/step - loss: 0.0039 - acc: 0.9997 - val_loss: 0.0123 - val_acc: 0.9961\n",
      "Correct:  1+361   = 362 \n",
      "Correct:  558+938 = 1496\n",
      "Correct:  42+302  = 344 \n",
      "Correct:  8+442   = 450 \n",
      "Correct:  324+339 = 663 \n",
      "Correct:  21+308  = 329 \n",
      "Correct:  88+203  = 291 \n",
      "Correct:  887+98  = 985 \n",
      "Correct:  584+31  = 615 \n",
      "Correct:  47+521  = 568 \n"
     ]
    }
   ],
   "source": [
    "for iteration in range(1, 25):\n",
    "    print()\n",
    "    print('-'*50)\n",
    "    print('Iteration: ', iteration)\n",
    "    model.fit(x_train, y_train, batch_size=BATCH_SIZE, epochs=1, validation_data=(x_test, y_test))\n",
    "    \n",
    "    for i in range(10):\n",
    "        rand_val_index = np.random.randint(0, len(x_test))\n",
    "        \n",
    "        test_row_x, test_row_y = x_test[rand_val_index], y_test[rand_val_index]\n",
    "               \n",
    "        origianl_question = decode(test_row_x)\n",
    "        original_answer = decode(test_row_y)\n",
    "        \n",
    "        predicted_class = model.predict_classes(test_row_x.reshape(1, test_row_x.shape[0],test_row_x.shape[1] ), verbose=0)\n",
    "        #print(predicted_class)\n",
    "        predicted_answer = decode(predicted_class[0], calc_argmax=False)\n",
    "        \n",
    "        if original_answer == predicted_answer:\n",
    "            print('Correct: ', origianl_question,'=',predicted_answer)\n",
    "        else:\n",
    "            print('Wrong: ', origianl_question,'!=',predicted_answer)\n",
    "        "
   ]
  }
 ],
 "metadata": {
  "kernelspec": {
   "display_name": "Python 3",
   "language": "python",
   "name": "python3"
  },
  "language_info": {
   "codemirror_mode": {
    "name": "ipython",
    "version": 3
   },
   "file_extension": ".py",
   "mimetype": "text/x-python",
   "name": "python",
   "nbconvert_exporter": "python",
   "pygments_lexer": "ipython3",
   "version": "3.6.8"
  }
 },
 "nbformat": 4,
 "nbformat_minor": 2
}
