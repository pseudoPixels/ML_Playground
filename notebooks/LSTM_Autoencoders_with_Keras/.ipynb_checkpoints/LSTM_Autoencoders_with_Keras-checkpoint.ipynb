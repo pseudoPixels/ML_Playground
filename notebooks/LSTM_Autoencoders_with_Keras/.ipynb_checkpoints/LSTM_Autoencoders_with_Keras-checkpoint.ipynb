{
 "cells": [
  {
   "cell_type": "markdown",
   "metadata": {},
   "source": [
    "# LSTM_Autoencoders_with_Keras"
   ]
  },
  {
   "cell_type": "markdown",
   "metadata": {},
   "source": [
    "## 1.0 Autoencoders ?\n",
    "An **Autoencoder** is a type of Artificial Neural Network model that learns a compressed representation of input (i.e., [Wiki](https://en.wikipedia.org/wiki/Autoencoder)). LSTM autoencoder is an implementation for compressed sequence representation for Encoder-Decoder LSTM. The Encoder part can compress the original input sequence to a fixed length, which can be used as feature vector for other supervised learning algorithms or even data visualization.\n",
    "\n",
    "The lenght of sequences in any sequence prediction problems might vary from time to time. But, ANN are usaually designed to work with fixed length feature vectors. Hence, encoders play important roles in such scenarios, where the they encode the sequences of varying length to a fixed length reprsentation, making them suitable for the input of ANN models."
   ]
  },
  {
   "cell_type": "markdown",
   "metadata": {},
   "source": [
    "## 2.0 Encoder-Decoder LSTM Model"
   ]
  },
  {
   "cell_type": "code",
   "execution_count": null,
   "metadata": {},
   "outputs": [],
   "source": []
  }
 ],
 "metadata": {
  "kernelspec": {
   "display_name": "Python 3",
   "language": "python",
   "name": "python3"
  },
  "language_info": {
   "codemirror_mode": {
    "name": "ipython",
    "version": 3
   },
   "file_extension": ".py",
   "mimetype": "text/x-python",
   "name": "python",
   "nbconvert_exporter": "python",
   "pygments_lexer": "ipython3",
   "version": "3.6.8"
  }
 },
 "nbformat": 4,
 "nbformat_minor": 2
}
